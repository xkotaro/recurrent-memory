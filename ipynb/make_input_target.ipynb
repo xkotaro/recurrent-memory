{
 "cells": [
  {
   "cell_type": "code",
   "execution_count": 1,
   "metadata": {},
   "outputs": [],
   "source": [
    "from __future__ import print_function\n",
    "\n",
    "import argparse\n",
    "\n",
    "import numpy as np\n",
    "import torch\n",
    "import torch.utils.data\n",
    "import torch.nn.functional as F\n",
    "import sys\n",
    "sys.path.append('../model')\n",
    "from model import RecurrentNetTimeFixed\n",
    "\n",
    "import matplotlib.pyplot as plt\n",
    "%matplotlib inline"
   ]
  },
  {
   "cell_type": "code",
   "execution_count": 24,
   "metadata": {},
   "outputs": [],
   "source": [
    "# when_slow_signal = [0, 7,14]\n",
    "slow_signal_values = [1.278, 2.176, 0.451]\n",
    "def lsm_signals(n_episodes=100, n_in=100, stim_dur=15,\n",
    "                sig1_stim_dur=20, resp_dur=10, each_episodes=10, kappa=5.0, spon_rate=0.2, n_stim=3):\n",
    "    phi = np.linspace(0, np.pi, n_in)\n",
    "    n_loc = 1\n",
    "    nneuron = n_in * n_loc\n",
    "    total_dur = n_stim * (stim_dur + resp_dur)\n",
    "    G = (1.0 / stim_dur) * np.random.choice([1.0], 1)\n",
    "    G = np.repeat(G, n_in, axis=0).T\n",
    "    G = np.tile(G, (stim_dur, 1))\n",
    "\n",
    "    # signal2\n",
    "    Stims = []\n",
    "    Stims_ = []\n",
    "    Ls = []\n",
    "    Rs = []\n",
    "    for episode in range(n_episodes):\n",
    "        episode_stim = []\n",
    "        for i in range(n_stim):\n",
    "            S = np.pi * np.random.rand(1)\n",
    "            S_ = S.copy()\n",
    "            S = np.repeat(S, n_in, axis=0).T\n",
    "            S = np.tile(S, (stim_dur, 1))\n",
    "            Stims.append(S)\n",
    "            episode_stim.append(S_)\n",
    "\n",
    "            # Noisy responses\n",
    "            L = G * np.exp(kappa * (np.cos(\n",
    "                2.0 * (S - np.tile(phi, (stim_dur, n_loc)))) - 1.0))  # stim\n",
    "\n",
    "            Ls.append(L)\n",
    "            R = np.random.poisson(L)\n",
    "            Rs.append(R)\n",
    "        Stims_.append(episode_stim)\n",
    "        Lr = (spon_rate / resp_dur) * np.ones((resp_dur * n_stim, nneuron))  # resp\n",
    "        Rr = np.random.poisson(Lr)\n",
    "\n",
    "        Rs.append(Rr)\n",
    "\n",
    "    signal2 = np.concatenate(tuple(Rs), axis=0)\n",
    "\n",
    "    G1 = (3.0 / sig1_stim_dur) * np.random.choice([1.0], 1)\n",
    "    G1 = np.repeat(G1, n_in, axis=0).T\n",
    "    G1 = np.tile(G1, (sig1_stim_dur, 1))\n",
    "    # signal1 & target\n",
    "    a = np.random.poisson(0.8, n_episodes)\n",
    "    Rs1 = []\n",
    "    accum_signal = np.pi * np.random.rand(1)\n",
    "    target_list = []\n",
    "\n",
    "    for episode in range(n_episodes):\n",
    "        target_list.append(np.zeros(stim_dur * n_stim))\n",
    "        if a[episode] == 2 or episode % each_episodes == 0:\n",
    "            # print(episode)\n",
    "            accum_signal = np.pi * np.random.rand(1)\n",
    "            # accum_signal = slow_signal_values[episode//each_episodes]\n",
    "            S = np.repeat(accum_signal, n_in, axis=0).T\n",
    "            S = np.tile(S, (sig1_stim_dur, 1))\n",
    "\n",
    "            L = G1 * np.exp(kappa * (np.cos(\n",
    "                2.0 * (S - np.tile(phi, (sig1_stim_dur, n_loc)))) - 1.0))  # stim\n",
    "            R = np.random.poisson(L)\n",
    "            Rs1.append(R)\n",
    "        else:\n",
    "            Lr = (spon_rate / resp_dur) * np.ones((sig1_stim_dur, nneuron))  # resp\n",
    "            R = np.random.poisson(Lr)\n",
    "            Rs1.append(R)\n",
    "        L_spont = (spon_rate / resp_dur) * np.ones((total_dur - sig1_stim_dur, nneuron))  # resp\n",
    "        R = np.random.poisson(L_spont)\n",
    "        Rs1.append(R)\n",
    "\n",
    "        for i in range(n_stim):\n",
    "            target = np.repeat(Stims_[episode][i]+accum_signal, resp_dur, axis=0)\n",
    "            # target = np.repeat(Stims_[episode][i], resp_dur, axis=0)\n",
    "            target_list.append(target)\n",
    "\n",
    "    signal1 = np.concatenate(tuple(Rs1), axis=0)\n",
    "\n",
    "    target = np.concatenate(tuple(target_list), axis=0)\n",
    "    target = np.expand_dims(target, 1)\n",
    "\n",
    "    signal = np.concatenate((signal1, signal2), axis=1)\n",
    "    return signal, target, Stims_"
   ]
  },
  {
   "cell_type": "code",
   "execution_count": 25,
   "metadata": {},
   "outputs": [],
   "source": [
    "signal, target, stims_ = lsm_signals(n_episodes=21,\n",
    "                                 stim_dur=7,\n",
    "                                 sig1_stim_dur=7,\n",
    "                                 resp_dur=5,\n",
    "                                 each_episodes=7,\n",
    "                                 spon_rate=0.01)"
   ]
  },
  {
   "cell_type": "code",
   "execution_count": 22,
   "metadata": {},
   "outputs": [
    {
     "data": {
      "text/plain": [
       "(756, 200)"
      ]
     },
     "execution_count": 22,
     "metadata": {},
     "output_type": "execute_result"
    }
   ],
   "source": [
    "signal.shape"
   ]
  },
  {
   "cell_type": "code",
   "execution_count": 27,
   "metadata": {},
   "outputs": [
    {
     "data": {
      "text/plain": [
       "[[array([2.77328959]), array([2.00076516]), array([2.1639178])],\n",
       " [array([2.50010481]), array([1.44000585]), array([2.38646372])],\n",
       " [array([0.36459204]), array([1.08631764]), array([0.08591696])],\n",
       " [array([2.0247914]), array([0.2457137]), array([0.08241466])],\n",
       " [array([1.43170234]), array([2.60730471]), array([0.98595842])],\n",
       " [array([0.68571548]), array([0.84252966]), array([1.04854858])],\n",
       " [array([2.09201534]), array([1.77350265]), array([1.14122541])],\n",
       " [array([0.94925083]), array([1.91642259]), array([1.62808999])],\n",
       " [array([1.45019893]), array([1.39442539]), array([2.37312231])],\n",
       " [array([2.21487726]), array([1.04392901]), array([0.70196071])],\n",
       " [array([1.75909976]), array([1.60182688]), array([2.05104296])],\n",
       " [array([1.68766183]), array([1.27320674]), array([2.67781203])],\n",
       " [array([0.39176605]), array([1.8423487]), array([0.59106606])],\n",
       " [array([0.05111375]), array([1.04651193]), array([1.57245158])],\n",
       " [array([2.33506537]), array([2.96190354]), array([1.00102722])],\n",
       " [array([2.20590311]), array([2.24894275]), array([1.97869698])],\n",
       " [array([0.17892515]), array([1.75742235]), array([0.72409637])],\n",
       " [array([0.55792476]), array([0.03143522]), array([1.23306075])],\n",
       " [array([1.33978207]), array([2.27214586]), array([1.94997147])],\n",
       " [array([0.8036207]), array([0.35956348]), array([1.92159151])],\n",
       " [array([1.97588971]), array([3.13931495]), array([0.55541607])]]"
      ]
     },
     "execution_count": 27,
     "metadata": {},
     "output_type": "execute_result"
    }
   ],
   "source": [
    "stims_"
   ]
  },
  {
   "cell_type": "code",
   "execution_count": 40,
   "metadata": {},
   "outputs": [
    {
     "data": {
      "image/png": "[encoded data removed]",
      "text/plain": [
       "<matplotlib.figure.Figure at 0x1a212285c0>"
      ]
     },
     "metadata": {},
     "output_type": "display_data"
    }
   ],
   "source": [
    "import seaborn as sns\n",
    "from datetime import datetime\n",
    "import pytz\n",
    "sns.heatmap(signal[:36].T, cmap='gray_r')\n",
    "plt.xlabel('time')\n",
    "plt.ylabel('neuron index')\n",
    "plt.title('all inputs')\n",
    "time_stamp = datetime.strftime(datetime.now(pytz.timezone('Japan')), '%m%d%H%M')\n",
    "plt.savefig('./images_for_seminar/{}_input_sample2.png'.format(time_stamp), dpi=100)"
   ]
  },
  {
   "cell_type": "code",
   "execution_count": 32,
   "metadata": {},
   "outputs": [],
   "source": [
    "input_sample = [2.21487726]*7+[1.04392901]*7+[0.70196071]*7"
   ]
  },
  {
   "cell_type": "code",
   "execution_count": 33,
   "metadata": {},
   "outputs": [
    {
     "data": {
      "image/png": "[encoded data removed]",
      "text/plain": [
       "<matplotlib.figure.Figure at 0x1a212570f0>"
      ]
     },
     "metadata": {},
     "output_type": "display_data"
    }
   ],
   "source": [
    "plt.plot(input_sample, label='input')\n",
    "plt.plot(target.T[0][324:360], label='target')\n",
    "# plt.plot(output[0].data.numpy().T[0][324:360], label='output')\n",
    "plt.xlabel('time')\n",
    "plt.ylabel('value')\n",
    "plt.title('input-target sample')\n",
    "plt.legend()\n",
    "time_stamp = datetime.strftime(datetime.now(pytz.timezone('Japan')), '%m%d%H%M')\n",
    "plt.savefig('./images_for_seminar/{}_input_target_sample.png'.format(time_stamp), dpi=200)"
   ]
  },
  {
   "cell_type": "code",
   "execution_count": 67,
   "metadata": {},
   "outputs": [],
   "source": [
    "G = (1.0 / 7) * np.random.choice([1.0], 1)\n",
    "G = np.repeat(G, 100, axis=0).T\n",
    "G = np.tile(G, (7, 1))\n",
    "\n",
    "# S1 = np.pi * np.random.rand(1)\n",
    "S1 = 2\n",
    "S = 2  # S: signal\n",
    "S1 = np.repeat(S1, 100, axis=0).T\n",
    "S1 = np.tile(S1, (7, 1))\n",
    "# print(S1.shape)\n",
    "\n",
    "# Noisy responses\n",
    "L1 = G * np.exp(5.0 * (np.cos(\n",
    "            2.0 * (S1 - np.tile(np.linspace(0, np.pi, 100), (7, 1)))) - 1.0))  # stim\n",
    "\n",
    "R1 = np.random.poisson(L1)"
   ]
  },
  {
   "cell_type": "code",
   "execution_count": 68,
   "metadata": {},
   "outputs": [
    {
     "data": {
      "text/plain": [
       "2"
      ]
     },
     "execution_count": 68,
     "metadata": {},
     "output_type": "execute_result"
    }
   ],
   "source": [
    "S"
   ]
  },
  {
   "cell_type": "code",
   "execution_count": 71,
   "metadata": {},
   "outputs": [
    {
     "data": {
      "image/png": "[encoded data removed]",
      "text/plain": [
       "<matplotlib.figure.Figure at 0x1a1de16470>"
      ]
     },
     "metadata": {},
     "output_type": "display_data"
    }
   ],
   "source": [
    "sns.heatmap(L1.T, cmap='gray_r')\n",
    "plt.savefig('example1.png', dpi=100)"
   ]
  },
  {
   "cell_type": "code",
   "execution_count": 72,
   "metadata": {},
   "outputs": [
    {
     "data": {
      "image/png": "[encoded data removed]",
      "text/plain": [
       "<matplotlib.figure.Figure at 0x1a1de89128>"
      ]
     },
     "metadata": {},
     "output_type": "display_data"
    }
   ],
   "source": [
    "sns.heatmap(R1.T, cmap='gray_r')\n",
    "plt.savefig('example2.png', dpi=100)"
   ]
  },
  {
   "cell_type": "code",
   "execution_count": null,
   "metadata": {},
   "outputs": [],
   "source": []
  }
 ],
 "metadata": {
  "kernelspec": {
   "display_name": "Python 3",
   "language": "python",
   "name": "python3"
  },
  "language_info": {
   "codemirror_mode": {
    "name": "ipython",
    "version": 3
   },
   "file_extension": ".py",
   "mimetype": "text/x-python",
   "name": "python",
   "nbconvert_exporter": "python",
   "pygments_lexer": "ipython3",
   "version": "3.6.4"
  }
 },
 "nbformat": 4,
 "nbformat_minor": 2
}
